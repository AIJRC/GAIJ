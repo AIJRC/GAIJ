{
 "cells": [
  {
   "cell_type": "code",
   "execution_count": 1,
   "metadata": {},
   "outputs": [],
   "source": [
    "import pandas as pd\n",
    "import requests, os, json\n",
    "from pandas import json_normalize"
   ]
  },
  {
   "cell_type": "code",
   "execution_count": 6,
   "metadata": {},
   "outputs": [],
   "source": [
    "suspects = '../../analyses/kindergartens/suspects.csv'\n",
    "redflags = '../../analyses/kindergartens/redflags.csv'\n",
    "\n",
    "enheter = 'data/enheter_2024-06-11T04-16-20.253290563.csv'\n",
    "underenheter = 'data/underenheter_2024-06-11T04-22-23.463742057.csv'"
   ]
  },
  {
   "cell_type": "code",
   "execution_count": 4,
   "metadata": {},
   "outputs": [],
   "source": [
    "# Load the CSV file\n",
    "df_sus = pd.read_csv(suspects, dtype=str)\n",
    "df_rf = pd.read_csv(redflags, dtype=str)\n",
    "\n",
    "all_ids= pd.concat([df_sus[col] for col in df_sus.columns]).unique()\n",
    "fd = pd.DataFrame(all_ids, columns=['organization number'])"
   ]
  },
  {
   "cell_type": "code",
   "execution_count": null,
   "metadata": {},
   "outputs": [],
   "source": []
  },
  {
   "cell_type": "code",
   "execution_count": 7,
   "metadata": {},
   "outputs": [],
   "source": [
    "df_en = pd.read_csv(enheter, dtype=str)"
   ]
  },
  {
   "cell_type": "code",
   "execution_count": 8,
   "metadata": {},
   "outputs": [],
   "source": [
    "df_un = pd.read_csv(underenheter, dtype=str)"
   ]
  },
  {
   "cell_type": "code",
   "execution_count": 14,
   "metadata": {},
   "outputs": [
    {
     "data": {
      "text/plain": [
       "Index(['organisasjonsnummer', 'navn', 'organisasjonsform.kode',\n",
       "       'organisasjonsform.beskrivelse', 'naeringskode1.kode',\n",
       "       'naeringskode1.beskrivelse', 'naeringskode2.kode',\n",
       "       'naeringskode2.beskrivelse', 'naeringskode3.kode',\n",
       "       'naeringskode3.beskrivelse', 'hjelpeenhetskode.kode',\n",
       "       'hjelpeenhetskode.beskrivelse', 'harRegistrertAntallAnsatte',\n",
       "       'antallAnsatte', 'hjemmeside', 'postadresse.adresse',\n",
       "       'postadresse.poststed', 'postadresse.postnummer', 'postadresse.kommune',\n",
       "       'postadresse.kommunenummer', 'postadresse.land', 'postadresse.landkode',\n",
       "       'forretningsadresse.adresse', 'forretningsadresse.poststed',\n",
       "       'forretningsadresse.postnummer', 'forretningsadresse.kommune',\n",
       "       'forretningsadresse.kommunenummer', 'forretningsadresse.land',\n",
       "       'forretningsadresse.landkode', 'institusjonellSektorkode.kode',\n",
       "       'institusjonellSektorkode.beskrivelse', 'sisteInnsendteAarsregnskap',\n",
       "       'registreringsdatoenhetsregisteret', 'stiftelsesdato',\n",
       "       'registrertIMvaRegisteret', 'frivilligMvaRegistrertBeskrivelser',\n",
       "       'registrertIFrivillighetsregisteret', 'registrertIForetaksregisteret',\n",
       "       'registrertIStiftelsesregisteret', 'konkurs', 'konkursdato',\n",
       "       'underAvvikling', 'underAvviklingDato',\n",
       "       'underTvangsavviklingEllerTvangsopplosning',\n",
       "       'tvangsopplostPgaManglendeDagligLederDato',\n",
       "       'tvangsopplostPgaManglendeRevisorDato',\n",
       "       'tvangsopplostPgaManglendeRegnskapDato',\n",
       "       'tvangsopplostPgaMangelfulltStyreDato',\n",
       "       'tvangsavvikletPgaManglendeSlettingDato', 'overordnetEnhet', 'maalform',\n",
       "       'vedtektsdato', 'vedtektsfestetFormaal', 'aktivitet'],\n",
       "      dtype='object')"
      ]
     },
     "execution_count": 14,
     "metadata": {},
     "output_type": "execute_result"
    }
   ],
   "source": [
    "df_en.columns"
   ]
  },
  {
   "cell_type": "code",
   "execution_count": 13,
   "metadata": {},
   "outputs": [
    {
     "name": "stdout",
     "output_type": "stream",
     "text": [
      "Do both dataframes have the exact same columns? False\n",
      "Extra columns in df_en: {'konkursdato', 'sisteInnsendteAarsregnskap', 'forretningsadresse.kommunenummer', 'registrertIForetaksregisteret', 'tvangsopplostPgaManglendeRevisorDato', 'underTvangsavviklingEllerTvangsopplosning', 'underAvviklingDato', 'registrertIMvaRegisteret', 'forretningsadresse.postnummer', 'institusjonellSektorkode.beskrivelse', 'registrertIFrivillighetsregisteret', 'tvangsopplostPgaManglendeRegnskapDato', 'vedtektsdato', 'konkurs', 'forretningsadresse.poststed', 'institusjonellSektorkode.kode', 'tvangsopplostPgaManglendeDagligLederDato', 'tvangsavvikletPgaManglendeSlettingDato', 'forretningsadresse.kommune', 'stiftelsesdato', 'vedtektsfestetFormaal', 'registreringsdatoenhetsregisteret', 'tvangsopplostPgaMangelfulltStyreDato', 'forretningsadresse.landkode', 'maalform', 'forretningsadresse.adresse', 'forretningsadresse.land', 'underAvvikling', 'registrertIStiftelsesregisteret', 'aktivitet'}\n",
      "Extra columns in df_un: {'beliggenhetsadresse.kommunenummer', 'registreringsdatoIEnhetsregisteret', 'beliggenhetsadresse.land', 'beliggenhetsadresse.poststed', 'beliggenhetsadresse.adresse', 'beliggenhetsadresse.landkode', 'oppstartsdato', 'datoEierskifte', 'beliggenhetsadresse.postnummer', 'nedleggelsesdato', 'registrertIMvaregisteret', 'beliggenhetsadresse.kommune'}\n",
      "Concatenated DataFrame:\n",
      "        organisasjonsnummer                                     navn  \\\n",
      "0                 810034882                    SANDNES ELEKTRISKE AS   \n",
      "1                 810059672                       AASEN & FARSTAD AS   \n",
      "2                 810093382                          BRIS EIENDOM AS   \n",
      "3                 810094532                    AGDERPOSTEN MEDIER AS   \n",
      "4                 810098252                 ODD FELLOW HUSET BODØ AS   \n",
      "...                     ...                                      ...   \n",
      "1906346           999670458                     KIROPRAKTOR NENSETER   \n",
      "1906347           999670520  VAKTMESTERFIRMA CARLOS RECABARREN GOMEZ   \n",
      "1906348           999670539        ISIHEST INGEBORG STEINNES IVESDAL   \n",
      "1906349           999670652                           NDT SERVICE AS   \n",
      "1906350           999670725                          VESTRO HELSE AS   \n",
      "\n",
      "        organisasjonsform.kode  \\\n",
      "0                           AS   \n",
      "1                           AS   \n",
      "2                           AS   \n",
      "3                           AS   \n",
      "4                           AS   \n",
      "...                        ...   \n",
      "1906346                   BEDR   \n",
      "1906347                   BEDR   \n",
      "1906348                   BEDR   \n",
      "1906349                   BEDR   \n",
      "1906350                   BEDR   \n",
      "\n",
      "                             organisasjonsform.beskrivelse naeringskode1.kode  \\\n",
      "0                                             Aksjeselskap             43.210   \n",
      "1                                             Aksjeselskap             68.209   \n",
      "2                                             Aksjeselskap             68.209   \n",
      "3                                             Aksjeselskap             68.209   \n",
      "4                                             Aksjeselskap             68.209   \n",
      "...                                                    ...                ...   \n",
      "1906346  Underenhet til næringsdrivende og offentlig fo...             86.909   \n",
      "1906347  Underenhet til næringsdrivende og offentlig fo...             81.101   \n",
      "1906348  Underenhet til næringsdrivende og offentlig fo...             85.599   \n",
      "1906349  Underenhet til næringsdrivende og offentlig fo...             46.630   \n",
      "1906350  Underenhet til næringsdrivende og offentlig fo...             86.905   \n",
      "\n",
      "                                 naeringskode1.beskrivelse naeringskode2.kode  \\\n",
      "0                            Elektrisk installasjonsarbeid             27.510   \n",
      "1            Utleie av egen eller leid fast eiendom ellers                NaN   \n",
      "2            Utleie av egen eller leid fast eiendom ellers                NaN   \n",
      "3            Utleie av egen eller leid fast eiendom ellers                NaN   \n",
      "4            Utleie av egen eller leid fast eiendom ellers                NaN   \n",
      "...                                                    ...                ...   \n",
      "1906346                               Andre helsetjenester                NaN   \n",
      "1906347                                Vaktmestertjenester                NaN   \n",
      "1906348           Annen undervisning ikke nevnt annet sted                NaN   \n",
      "1906349  Engroshandel med maskiner og utstyr til bergve...                NaN   \n",
      "1906350                           Klinisk psykologtjeneste                NaN   \n",
      "\n",
      "                                 naeringskode2.beskrivelse naeringskode3.kode  \\\n",
      "0        Produksjon av elektriske husholdningsmaskiner ...                NaN   \n",
      "1                                                      NaN                NaN   \n",
      "2                                                      NaN                NaN   \n",
      "3                                                      NaN                NaN   \n",
      "4                                                      NaN                NaN   \n",
      "...                                                    ...                ...   \n",
      "1906346                                                NaN                NaN   \n",
      "1906347                                                NaN                NaN   \n",
      "1906348                                                NaN                NaN   \n",
      "1906349                                                NaN                NaN   \n",
      "1906350                                                NaN                NaN   \n",
      "\n",
      "        naeringskode3.beskrivelse  ... beliggenhetsadresse.postnummer  \\\n",
      "0                             NaN  ...                            NaN   \n",
      "1                             NaN  ...                            NaN   \n",
      "2                             NaN  ...                            NaN   \n",
      "3                             NaN  ...                            NaN   \n",
      "4                             NaN  ...                            NaN   \n",
      "...                           ...  ...                            ...   \n",
      "1906346                       NaN  ...                           3676   \n",
      "1906347                       NaN  ...                           2068   \n",
      "1906348                       NaN  ...                           4389   \n",
      "1906349                       NaN  ...                           4312   \n",
      "1906350                       NaN  ...                           3024   \n",
      "\n",
      "        beliggenhetsadresse.kommune beliggenhetsadresse.kommunenummer  \\\n",
      "0                               NaN                               NaN   \n",
      "1                               NaN                               NaN   \n",
      "2                               NaN                               NaN   \n",
      "3                               NaN                               NaN   \n",
      "4                               NaN                               NaN   \n",
      "...                             ...                               ...   \n",
      "1906346                    NOTODDEN                              4005   \n",
      "1906347                  ULLENSAKER                              3209   \n",
      "1906348                   BJERKREIM                              1114   \n",
      "1906349                     SANDNES                              1108   \n",
      "1906350                     DRAMMEN                              3301   \n",
      "\n",
      "        beliggenhetsadresse.land beliggenhetsadresse.landkode  \\\n",
      "0                            NaN                          NaN   \n",
      "1                            NaN                          NaN   \n",
      "2                            NaN                          NaN   \n",
      "3                            NaN                          NaN   \n",
      "4                            NaN                          NaN   \n",
      "...                          ...                          ...   \n",
      "1906346                    Norge                           NO   \n",
      "1906347                    Norge                           NO   \n",
      "1906348                    Norge                           NO   \n",
      "1906349                    Norge                           NO   \n",
      "1906350                    Norge                           NO   \n",
      "\n",
      "        registreringsdatoIEnhetsregisteret registrertIMvaregisteret  \\\n",
      "0                                      NaN                      NaN   \n",
      "1                                      NaN                      NaN   \n",
      "2                                      NaN                      NaN   \n",
      "3                                      NaN                      NaN   \n",
      "4                                      NaN                      NaN   \n",
      "...                                    ...                      ...   \n",
      "1906346                         2013-02-09                    false   \n",
      "1906347                         2013-02-09                    false   \n",
      "1906348                         2013-02-09                    false   \n",
      "1906349                         2013-02-09                    false   \n",
      "1906350                         2013-02-09                    false   \n",
      "\n",
      "        oppstartsdato datoEierskifte nedleggelsesdato  \n",
      "0                 NaN            NaN              NaN  \n",
      "1                 NaN            NaN              NaN  \n",
      "2                 NaN            NaN              NaN  \n",
      "3                 NaN            NaN              NaN  \n",
      "4                 NaN            NaN              NaN  \n",
      "...               ...            ...              ...  \n",
      "1906346    2013-07-01            NaN              NaN  \n",
      "1906347    2012-01-01            NaN              NaN  \n",
      "1906348    2013-01-01            NaN              NaN  \n",
      "1906349    2013-01-30            NaN              NaN  \n",
      "1906350    2013-01-01            NaN              NaN  \n",
      "\n",
      "[1906351 rows x 66 columns]\n"
     ]
    },
    {
     "ename": "KeyError",
     "evalue": "'forretningsadresse.adresse'",
     "output_type": "error",
     "traceback": [
      "\u001b[0;31m---------------------------------------------------------------------------\u001b[0m",
      "\u001b[0;31mKeyError\u001b[0m                                  Traceback (most recent call last)",
      "\u001b[0;32m/var/folders/rm/wcs_lmc15t53nyswfqrw4tcw0000gn/T/ipykernel_5692/763199060.py\u001b[0m in \u001b[0;36m?\u001b[0;34m()\u001b[0m\n\u001b[1;32m     17\u001b[0m \u001b[0mprint\u001b[0m\u001b[0;34m(\u001b[0m\u001b[0;34m\"Concatenated DataFrame:\"\u001b[0m\u001b[0;34m)\u001b[0m\u001b[0;34m\u001b[0m\u001b[0;34m\u001b[0m\u001b[0m\n\u001b[1;32m     18\u001b[0m \u001b[0mprint\u001b[0m\u001b[0;34m(\u001b[0m\u001b[0mconcatenated_df\u001b[0m\u001b[0;34m)\u001b[0m\u001b[0;34m\u001b[0m\u001b[0;34m\u001b[0m\u001b[0m\n\u001b[1;32m     19\u001b[0m \u001b[0;34m\u001b[0m\u001b[0m\n\u001b[1;32m     20\u001b[0m \u001b[0;31m# Check for common rows in both dataframes\u001b[0m\u001b[0;34m\u001b[0m\u001b[0;34m\u001b[0m\u001b[0m\n\u001b[0;32m---> 21\u001b[0;31m \u001b[0mcommon_rows\u001b[0m \u001b[0;34m=\u001b[0m \u001b[0mpd\u001b[0m\u001b[0;34m.\u001b[0m\u001b[0mmerge\u001b[0m\u001b[0;34m(\u001b[0m\u001b[0mdf_en\u001b[0m\u001b[0;34m,\u001b[0m \u001b[0mdf_un\u001b[0m\u001b[0;34m,\u001b[0m \u001b[0mon\u001b[0m\u001b[0;34m=\u001b[0m\u001b[0mlist\u001b[0m\u001b[0;34m(\u001b[0m\u001b[0mdf_en\u001b[0m\u001b[0;34m.\u001b[0m\u001b[0mcolumns\u001b[0m\u001b[0;34m)\u001b[0m\u001b[0;34m,\u001b[0m \u001b[0mhow\u001b[0m\u001b[0;34m=\u001b[0m\u001b[0;34m'inner'\u001b[0m\u001b[0;34m)\u001b[0m\u001b[0;34m\u001b[0m\u001b[0;34m\u001b[0m\u001b[0m\n\u001b[0m\u001b[1;32m     22\u001b[0m \u001b[0mprint\u001b[0m\u001b[0;34m(\u001b[0m\u001b[0;34m\"Common rows in both DataFrames:\"\u001b[0m\u001b[0;34m)\u001b[0m\u001b[0;34m\u001b[0m\u001b[0;34m\u001b[0m\u001b[0m\n\u001b[1;32m     23\u001b[0m \u001b[0mprint\u001b[0m\u001b[0;34m(\u001b[0m\u001b[0mcommon_rows\u001b[0m\u001b[0;34m)\u001b[0m\u001b[0;34m\u001b[0m\u001b[0;34m\u001b[0m\u001b[0m\n",
      "\u001b[0;32m~/Library/CloudStorage/GoogleDrive-alves.e.calaim@gmail.com/O meu disco/Code/Python/GAIJ/GAIJ/sandbox/calaim/.venv/lib/python3.12/site-packages/pandas/core/reshape/merge.py\u001b[0m in \u001b[0;36m?\u001b[0;34m(left, right, how, on, left_on, right_on, left_index, right_index, sort, suffixes, copy, indicator, validate)\u001b[0m\n\u001b[1;32m    166\u001b[0m             \u001b[0mvalidate\u001b[0m\u001b[0;34m=\u001b[0m\u001b[0mvalidate\u001b[0m\u001b[0;34m,\u001b[0m\u001b[0;34m\u001b[0m\u001b[0;34m\u001b[0m\u001b[0m\n\u001b[1;32m    167\u001b[0m             \u001b[0mcopy\u001b[0m\u001b[0;34m=\u001b[0m\u001b[0mcopy\u001b[0m\u001b[0;34m,\u001b[0m\u001b[0;34m\u001b[0m\u001b[0;34m\u001b[0m\u001b[0m\n\u001b[1;32m    168\u001b[0m         \u001b[0;34m)\u001b[0m\u001b[0;34m\u001b[0m\u001b[0;34m\u001b[0m\u001b[0m\n\u001b[1;32m    169\u001b[0m     \u001b[0;32melse\u001b[0m\u001b[0;34m:\u001b[0m\u001b[0;34m\u001b[0m\u001b[0;34m\u001b[0m\u001b[0m\n\u001b[0;32m--> 170\u001b[0;31m         op = _MergeOperation(\n\u001b[0m\u001b[1;32m    171\u001b[0m             \u001b[0mleft_df\u001b[0m\u001b[0;34m,\u001b[0m\u001b[0;34m\u001b[0m\u001b[0;34m\u001b[0m\u001b[0m\n\u001b[1;32m    172\u001b[0m             \u001b[0mright_df\u001b[0m\u001b[0;34m,\u001b[0m\u001b[0;34m\u001b[0m\u001b[0;34m\u001b[0m\u001b[0m\n\u001b[1;32m    173\u001b[0m             \u001b[0mhow\u001b[0m\u001b[0;34m=\u001b[0m\u001b[0mhow\u001b[0m\u001b[0;34m,\u001b[0m\u001b[0;34m\u001b[0m\u001b[0;34m\u001b[0m\u001b[0m\n",
      "\u001b[0;32m~/Library/CloudStorage/GoogleDrive-alves.e.calaim@gmail.com/O meu disco/Code/Python/GAIJ/GAIJ/sandbox/calaim/.venv/lib/python3.12/site-packages/pandas/core/reshape/merge.py\u001b[0m in \u001b[0;36m?\u001b[0;34m(self, left, right, how, on, left_on, right_on, left_index, right_index, sort, suffixes, indicator, validate)\u001b[0m\n\u001b[1;32m    790\u001b[0m             \u001b[0mself\u001b[0m\u001b[0;34m.\u001b[0m\u001b[0mright_join_keys\u001b[0m\u001b[0;34m,\u001b[0m\u001b[0;34m\u001b[0m\u001b[0;34m\u001b[0m\u001b[0m\n\u001b[1;32m    791\u001b[0m             \u001b[0mself\u001b[0m\u001b[0;34m.\u001b[0m\u001b[0mjoin_names\u001b[0m\u001b[0;34m,\u001b[0m\u001b[0;34m\u001b[0m\u001b[0;34m\u001b[0m\u001b[0m\n\u001b[1;32m    792\u001b[0m             \u001b[0mleft_drop\u001b[0m\u001b[0;34m,\u001b[0m\u001b[0;34m\u001b[0m\u001b[0;34m\u001b[0m\u001b[0m\n\u001b[1;32m    793\u001b[0m             \u001b[0mright_drop\u001b[0m\u001b[0;34m,\u001b[0m\u001b[0;34m\u001b[0m\u001b[0;34m\u001b[0m\u001b[0m\n\u001b[0;32m--> 794\u001b[0;31m         \u001b[0;34m)\u001b[0m \u001b[0;34m=\u001b[0m \u001b[0mself\u001b[0m\u001b[0;34m.\u001b[0m\u001b[0m_get_merge_keys\u001b[0m\u001b[0;34m(\u001b[0m\u001b[0;34m)\u001b[0m\u001b[0;34m\u001b[0m\u001b[0;34m\u001b[0m\u001b[0m\n\u001b[0m\u001b[1;32m    795\u001b[0m \u001b[0;34m\u001b[0m\u001b[0m\n\u001b[1;32m    796\u001b[0m         \u001b[0;32mif\u001b[0m \u001b[0mleft_drop\u001b[0m\u001b[0;34m:\u001b[0m\u001b[0;34m\u001b[0m\u001b[0;34m\u001b[0m\u001b[0m\n\u001b[1;32m    797\u001b[0m             \u001b[0mself\u001b[0m\u001b[0;34m.\u001b[0m\u001b[0mleft\u001b[0m \u001b[0;34m=\u001b[0m \u001b[0mself\u001b[0m\u001b[0;34m.\u001b[0m\u001b[0mleft\u001b[0m\u001b[0;34m.\u001b[0m\u001b[0m_drop_labels_or_levels\u001b[0m\u001b[0;34m(\u001b[0m\u001b[0mleft_drop\u001b[0m\u001b[0;34m)\u001b[0m\u001b[0;34m\u001b[0m\u001b[0;34m\u001b[0m\u001b[0m\n",
      "\u001b[0;32m~/Library/CloudStorage/GoogleDrive-alves.e.calaim@gmail.com/O meu disco/Code/Python/GAIJ/GAIJ/sandbox/calaim/.venv/lib/python3.12/site-packages/pandas/core/reshape/merge.py\u001b[0m in \u001b[0;36m?\u001b[0;34m(self)\u001b[0m\n\u001b[1;32m   1293\u001b[0m                         \u001b[0;31m# Then we're either Hashable or a wrong-length arraylike,\u001b[0m\u001b[0;34m\u001b[0m\u001b[0;34m\u001b[0m\u001b[0m\n\u001b[1;32m   1294\u001b[0m                         \u001b[0;31m#  the latter of which will raise\u001b[0m\u001b[0;34m\u001b[0m\u001b[0;34m\u001b[0m\u001b[0m\n\u001b[1;32m   1295\u001b[0m                         \u001b[0mrk\u001b[0m \u001b[0;34m=\u001b[0m \u001b[0mcast\u001b[0m\u001b[0;34m(\u001b[0m\u001b[0mHashable\u001b[0m\u001b[0;34m,\u001b[0m \u001b[0mrk\u001b[0m\u001b[0;34m)\u001b[0m\u001b[0;34m\u001b[0m\u001b[0;34m\u001b[0m\u001b[0m\n\u001b[1;32m   1296\u001b[0m                         \u001b[0;32mif\u001b[0m \u001b[0mrk\u001b[0m \u001b[0;32mis\u001b[0m \u001b[0;32mnot\u001b[0m \u001b[0;32mNone\u001b[0m\u001b[0;34m:\u001b[0m\u001b[0;34m\u001b[0m\u001b[0;34m\u001b[0m\u001b[0m\n\u001b[0;32m-> 1297\u001b[0;31m                             \u001b[0mright_keys\u001b[0m\u001b[0;34m.\u001b[0m\u001b[0mappend\u001b[0m\u001b[0;34m(\u001b[0m\u001b[0mright\u001b[0m\u001b[0;34m.\u001b[0m\u001b[0m_get_label_or_level_values\u001b[0m\u001b[0;34m(\u001b[0m\u001b[0mrk\u001b[0m\u001b[0;34m)\u001b[0m\u001b[0;34m)\u001b[0m\u001b[0;34m\u001b[0m\u001b[0;34m\u001b[0m\u001b[0m\n\u001b[0m\u001b[1;32m   1298\u001b[0m                         \u001b[0;32melse\u001b[0m\u001b[0;34m:\u001b[0m\u001b[0;34m\u001b[0m\u001b[0;34m\u001b[0m\u001b[0m\n\u001b[1;32m   1299\u001b[0m                             \u001b[0;31m# work-around for merge_asof(right_index=True)\u001b[0m\u001b[0;34m\u001b[0m\u001b[0;34m\u001b[0m\u001b[0m\n\u001b[1;32m   1300\u001b[0m                             \u001b[0mright_keys\u001b[0m\u001b[0;34m.\u001b[0m\u001b[0mappend\u001b[0m\u001b[0;34m(\u001b[0m\u001b[0mright\u001b[0m\u001b[0;34m.\u001b[0m\u001b[0mindex\u001b[0m\u001b[0;34m.\u001b[0m\u001b[0m_values\u001b[0m\u001b[0;34m)\u001b[0m\u001b[0;34m\u001b[0m\u001b[0;34m\u001b[0m\u001b[0m\n",
      "\u001b[0;32m~/Library/CloudStorage/GoogleDrive-alves.e.calaim@gmail.com/O meu disco/Code/Python/GAIJ/GAIJ/sandbox/calaim/.venv/lib/python3.12/site-packages/pandas/core/generic.py\u001b[0m in \u001b[0;36m?\u001b[0;34m(self, key, axis)\u001b[0m\n\u001b[1;32m   1907\u001b[0m             \u001b[0mvalues\u001b[0m \u001b[0;34m=\u001b[0m \u001b[0mself\u001b[0m\u001b[0;34m.\u001b[0m\u001b[0mxs\u001b[0m\u001b[0;34m(\u001b[0m\u001b[0mkey\u001b[0m\u001b[0;34m,\u001b[0m \u001b[0maxis\u001b[0m\u001b[0;34m=\u001b[0m\u001b[0mother_axes\u001b[0m\u001b[0;34m[\u001b[0m\u001b[0;36m0\u001b[0m\u001b[0;34m]\u001b[0m\u001b[0;34m)\u001b[0m\u001b[0;34m.\u001b[0m\u001b[0m_values\u001b[0m\u001b[0;34m\u001b[0m\u001b[0;34m\u001b[0m\u001b[0m\n\u001b[1;32m   1908\u001b[0m         \u001b[0;32melif\u001b[0m \u001b[0mself\u001b[0m\u001b[0;34m.\u001b[0m\u001b[0m_is_level_reference\u001b[0m\u001b[0;34m(\u001b[0m\u001b[0mkey\u001b[0m\u001b[0;34m,\u001b[0m \u001b[0maxis\u001b[0m\u001b[0;34m=\u001b[0m\u001b[0maxis\u001b[0m\u001b[0;34m)\u001b[0m\u001b[0;34m:\u001b[0m\u001b[0;34m\u001b[0m\u001b[0;34m\u001b[0m\u001b[0m\n\u001b[1;32m   1909\u001b[0m             \u001b[0mvalues\u001b[0m \u001b[0;34m=\u001b[0m \u001b[0mself\u001b[0m\u001b[0;34m.\u001b[0m\u001b[0maxes\u001b[0m\u001b[0;34m[\u001b[0m\u001b[0maxis\u001b[0m\u001b[0;34m]\u001b[0m\u001b[0;34m.\u001b[0m\u001b[0mget_level_values\u001b[0m\u001b[0;34m(\u001b[0m\u001b[0mkey\u001b[0m\u001b[0;34m)\u001b[0m\u001b[0;34m.\u001b[0m\u001b[0m_values\u001b[0m\u001b[0;34m\u001b[0m\u001b[0;34m\u001b[0m\u001b[0m\n\u001b[1;32m   1910\u001b[0m         \u001b[0;32melse\u001b[0m\u001b[0;34m:\u001b[0m\u001b[0;34m\u001b[0m\u001b[0;34m\u001b[0m\u001b[0m\n\u001b[0;32m-> 1911\u001b[0;31m             \u001b[0;32mraise\u001b[0m \u001b[0mKeyError\u001b[0m\u001b[0;34m(\u001b[0m\u001b[0mkey\u001b[0m\u001b[0;34m)\u001b[0m\u001b[0;34m\u001b[0m\u001b[0;34m\u001b[0m\u001b[0m\n\u001b[0m\u001b[1;32m   1912\u001b[0m \u001b[0;34m\u001b[0m\u001b[0m\n\u001b[1;32m   1913\u001b[0m         \u001b[0;31m# Check for duplicates\u001b[0m\u001b[0;34m\u001b[0m\u001b[0;34m\u001b[0m\u001b[0m\n\u001b[1;32m   1914\u001b[0m         \u001b[0;32mif\u001b[0m \u001b[0mvalues\u001b[0m\u001b[0;34m.\u001b[0m\u001b[0mndim\u001b[0m \u001b[0;34m>\u001b[0m \u001b[0;36m1\u001b[0m\u001b[0;34m:\u001b[0m\u001b[0;34m\u001b[0m\u001b[0;34m\u001b[0m\u001b[0m\n",
      "\u001b[0;31mKeyError\u001b[0m: 'forretningsadresse.adresse'"
     ]
    }
   ],
   "source": [
    "# Check if both dataframes have the exact same list of columns\n",
    "columns_match = df_en.columns.equals(df_un.columns)\n",
    "print(f\"Do both dataframes have the exact same columns? {columns_match}\")\n",
    "\n",
    "# Identify if one dataframe has more columns than the other\n",
    "df_en_columns = set(df_en.columns)\n",
    "df_un_columns = set(df_un.columns)\n",
    "\n",
    "if df_en_columns != df_un_columns:\n",
    "    extra_columns_df_en = df_en_columns - df_un_columns\n",
    "    extra_columns_df_un = df_un_columns - df_en_columns\n",
    "    print(f\"Extra columns in df_en: {extra_columns_df_en}\")\n",
    "    print(f\"Extra columns in df_un: {extra_columns_df_un}\")\n",
    "\n",
    "# Concatenate the dataframes\n",
    "concatenated_df = pd.concat([df_en, df_un], ignore_index=True)\n",
    "print(\"Concatenated DataFrame:\")\n",
    "print(concatenated_df)\n",
    "\n",
    "# Check for common rows in both dataframes\n",
    "common_rows = pd.merge(df_en, df_un, on=list(df_en.columns), how='inner')\n",
    "print(\"Common rows in both DataFrames:\")\n",
    "print(common_rows)"
   ]
  },
  {
   "cell_type": "code",
   "execution_count": 12,
   "metadata": {},
   "outputs": [
    {
     "data": {
      "text/plain": [
       "False"
      ]
     },
     "execution_count": 12,
     "metadata": {},
     "output_type": "execute_result"
    }
   ],
   "source": [
    "columns_match"
   ]
  },
  {
   "cell_type": "code",
   "execution_count": 10,
   "metadata": {},
   "outputs": [
    {
     "data": {
      "text/plain": [
       "Index(['organisasjonsnummer', 'navn', 'organisasjonsform.kode',\n",
       "       'organisasjonsform.beskrivelse', 'naeringskode1.kode',\n",
       "       'naeringskode1.beskrivelse', 'naeringskode2.kode',\n",
       "       'naeringskode2.beskrivelse', 'naeringskode3.kode',\n",
       "       'naeringskode3.beskrivelse', 'hjelpeenhetskode.kode',\n",
       "       'hjelpeenhetskode.beskrivelse', 'harRegistrertAntallAnsatte',\n",
       "       'antallAnsatte', 'hjemmeside', 'postadresse.adresse',\n",
       "       'postadresse.poststed', 'postadresse.postnummer', 'postadresse.kommune',\n",
       "       'postadresse.kommunenummer', 'postadresse.land', 'postadresse.landkode',\n",
       "       'forretningsadresse.adresse', 'forretningsadresse.poststed',\n",
       "       'forretningsadresse.postnummer', 'forretningsadresse.kommune',\n",
       "       'forretningsadresse.kommunenummer', 'forretningsadresse.land',\n",
       "       'forretningsadresse.landkode', 'institusjonellSektorkode.kode',\n",
       "       'institusjonellSektorkode.beskrivelse', 'sisteInnsendteAarsregnskap',\n",
       "       'registreringsdatoenhetsregisteret', 'stiftelsesdato',\n",
       "       'registrertIMvaRegisteret', 'frivilligMvaRegistrertBeskrivelser',\n",
       "       'registrertIFrivillighetsregisteret', 'registrertIForetaksregisteret',\n",
       "       'registrertIStiftelsesregisteret', 'konkurs', 'konkursdato',\n",
       "       'underAvvikling', 'underAvviklingDato',\n",
       "       'underTvangsavviklingEllerTvangsopplosning',\n",
       "       'tvangsopplostPgaManglendeDagligLederDato',\n",
       "       'tvangsopplostPgaManglendeRevisorDato',\n",
       "       'tvangsopplostPgaManglendeRegnskapDato',\n",
       "       'tvangsopplostPgaMangelfulltStyreDato',\n",
       "       'tvangsavvikletPgaManglendeSlettingDato', 'overordnetEnhet', 'maalform',\n",
       "       'vedtektsdato', 'vedtektsfestetFormaal', 'aktivitet'],\n",
       "      dtype='object')"
      ]
     },
     "execution_count": 10,
     "metadata": {},
     "output_type": "execute_result"
    }
   ],
   "source": [
    "df_en.columns"
   ]
  },
  {
   "cell_type": "code",
   "execution_count": null,
   "metadata": {},
   "outputs": [],
   "source": [
    "# # Function to get organization details from organization number\n",
    "# def get_org_details(orgnr):\n",
    "#     url = f'https://data.brreg.no/enhetsregisteret/api/enheter/{orgnr}'\n",
    "#     response = requests.get(url)\n",
    "#     if response.status_code == 200:\n",
    "#         return response.json()\n",
    "#     else:\n",
    "#         return {'organisasjonsnummer': orgnr, 'status': '404 - Not Found'}"
   ]
  },
  {
   "cell_type": "code",
   "execution_count": null,
   "metadata": {},
   "outputs": [],
   "source": [
    "# Function to get organization details from organization number\n",
    "def get_org_details(orgnr):\n",
    "    url = f'https://data.brreg.no/enhetsregisteret/api/enheter/{orgnr}'\n",
    "    filename = f'json_data/{orgnr}.json'\n",
    "    error_log_file = f'json_data/{orgnr}_error.log'\n",
    "\n",
    "    # Check if the JSON file already exists\n",
    "    if os.path.exists(filename):\n",
    "        with open(filename, 'r') as file:\n",
    "            return json.load(file)\n",
    "    # Check if the JSON file already exists\n",
    "    if os.path.exists(error_log_file):\n",
    "        with open(error_log_file, 'r') as file:\n",
    "            return {'organisasjonsnummer': orgnr, 'status': file.read()}\n",
    "\n",
    "    try:\n",
    "        response = requests.get(url, timeout=10)\n",
    "        response.raise_for_status()\n",
    "        data = response.json()\n",
    "        # Save the JSON data to a file\n",
    "        os.makedirs('json_data', exist_ok=True)\n",
    "        with open(filename, 'w') as file:\n",
    "            json.dump(data, file)\n",
    "        return data\n",
    "    except requests.exceptions.HTTPError as http_err:\n",
    "        error_message = f\"HTTP error occurred: {http_err}\"\n",
    "    except requests.exceptions.ConnectionError as conn_err:\n",
    "        error_message = f\"Connection error occurred: {conn_err}\"\n",
    "    except requests.exceptions.Timeout as timeout_err:\n",
    "        error_message = f\"Timeout error occurred: {timeout_err}\"\n",
    "    except requests.exceptions.RequestException as req_err:\n",
    "        error_message = f\"An error occurred: {req_err}\"\n",
    "\n",
    "    # Log the error to a file\n",
    "    with open(error_log_file, 'w') as file:\n",
    "        file.write(error_message)\n",
    "\n",
    "    return {'organisasjonsnummer': orgnr, 'status': error_message}"
   ]
  },
  {
   "cell_type": "code",
   "execution_count": null,
   "metadata": {},
   "outputs": [],
   "source": [
    "len(fd)"
   ]
  },
  {
   "cell_type": "code",
   "execution_count": null,
   "metadata": {},
   "outputs": [],
   "source": [
    "get_org_details('811616532')"
   ]
  },
  {
   "cell_type": "code",
   "execution_count": null,
   "metadata": {},
   "outputs": [],
   "source": [
    "get_org_details('996920917')"
   ]
  },
  {
   "cell_type": "code",
   "execution_count": null,
   "metadata": {},
   "outputs": [],
   "source": [
    "# for id in all_ids[-100:]:\n",
    "#     print(id, type(id))\n",
    "#     print(get_org_details(id))"
   ]
  },
  {
   "cell_type": "code",
   "execution_count": null,
   "metadata": {},
   "outputs": [],
   "source": [
    "# fd1 = fd.iloc[-30:]\n",
    "# fd2 = fd.iloc[:5]\n",
    "# fd = pd.concat((fd1, fd2))"
   ]
  },
  {
   "cell_type": "code",
   "execution_count": null,
   "metadata": {},
   "outputs": [],
   "source": [
    "# Fetch details for all organization numbers\n",
    "fd['Org Details'] = fd['organization number'].apply(get_org_details)"
   ]
  },
  {
   "cell_type": "code",
   "execution_count": null,
   "metadata": {},
   "outputs": [],
   "source": [
    "fd"
   ]
  },
  {
   "cell_type": "code",
   "execution_count": null,
   "metadata": {},
   "outputs": [],
   "source": [
    "# Flatten the JSON structure and handle nested fields\n",
    "details_df= pd.json_normalize(fd['Org Details'], sep='_')"
   ]
  },
  {
   "cell_type": "code",
   "execution_count": null,
   "metadata": {},
   "outputs": [],
   "source": [
    "details_df"
   ]
  },
  {
   "cell_type": "code",
   "execution_count": null,
   "metadata": {},
   "outputs": [],
   "source": [
    "df_404= details_df.loc[details_df.status.notnull(), ['organisasjonsnummer']]"
   ]
  },
  {
   "cell_type": "code",
   "execution_count": null,
   "metadata": {},
   "outputs": [],
   "source": [
    "df_404"
   ]
  },
  {
   "cell_type": "code",
   "execution_count": null,
   "metadata": {},
   "outputs": [],
   "source": [
    "df_404.to_csv('suspect_ids_not_found.csv', index=False)"
   ]
  },
  {
   "cell_type": "code",
   "execution_count": null,
   "metadata": {},
   "outputs": [],
   "source": [
    "details_df = details_df.loc[details_df.status.isnull()]"
   ]
  },
  {
   "cell_type": "code",
   "execution_count": null,
   "metadata": {},
   "outputs": [],
   "source": [
    "# Save the updated dataframe to a new CSV file\n",
    "details_df.to_csv('suspect_ids_full_details.csv', index=False)"
   ]
  },
  {
   "cell_type": "code",
   "execution_count": null,
   "metadata": {},
   "outputs": [],
   "source": [
    "details_df\n"
   ]
  },
  {
   "cell_type": "code",
   "execution_count": null,
   "metadata": {},
   "outputs": [],
   "source": [
    "colnames(details_df)"
   ]
  },
  {
   "cell_type": "code",
   "execution_count": null,
   "metadata": {},
   "outputs": [],
   "source": [
    "details_df.columns"
   ]
  },
  {
   "cell_type": "code",
   "execution_count": null,
   "metadata": {},
   "outputs": [],
   "source": [
    "column_translations = {\n",
    "    'organisasjonsnummer': 'organization_number',\n",
    "    'status': 'status',\n",
    "    'navn': 'name',\n",
    "    'hjemmeside': 'website',\n",
    "    'registreringsdatoEnhetsregisteret': 'registration_date_unit_register',\n",
    "    'registrertIMvaregisteret': 'registered_in_vat_register',\n",
    "    'frivilligMvaRegistrertBeskrivelser': 'voluntary_vat_registered_descriptions',\n",
    "    'antallAnsatte': 'number_of_employees',\n",
    "    'harRegistrertAntallAnsatte': 'has_registered_number_of_employees',\n",
    "    'stiftelsesdato': 'establishment_date',\n",
    "    'registrertIForetaksregisteret': 'registered_in_business_register',\n",
    "    'registrertIStiftelsesregisteret': 'registered_in_foundation_register',\n",
    "    'registrertIFrivillighetsregisteret': 'registered_in_volunteer_register',\n",
    "    'sisteInnsendteAarsregnskap': 'last_submitted_annual_accounts',\n",
    "    'konkurs': 'bankruptcy',\n",
    "    'underAvvikling': 'under_liquidation',\n",
    "    'underTvangsavviklingEllerTvangsopplosning': 'under_forced_liquidation_or_dissolution',\n",
    "    'maalform': 'language_form',\n",
    "    'vedtektsdato': 'articles_of_association_date',\n",
    "    'vedtektsfestetFormaal': 'statutory_purpose',\n",
    "    'aktivitet': 'activity',\n",
    "    'organisasjonsform_kode': 'organization_form_code',\n",
    "    'organisasjonsform_beskrivelse': 'organization_form_description',\n",
    "    'organisasjonsform__links_self_href': 'organization_form_links_self_href',\n",
    "    'postadresse_land': 'postal_address_country',\n",
    "    'postadresse_landkode': 'postal_address_country_code',\n",
    "    'postadresse_postnummer': 'postal_address_postal_code',\n",
    "    'postadresse_poststed': 'postal_address_city',\n",
    "    'postadresse_adresse': 'postal_address_address',\n",
    "    'postadresse_kommune': 'postal_address_municipality',\n",
    "    'postadresse_kommunenummer': 'postal_address_municipality_number',\n",
    "    'naeringskode1_kode': 'industry_code1_code',\n",
    "    'naeringskode1_beskrivelse': 'industry_code1_description',\n",
    "    'hjelpeenhetskode_kode': 'auxiliary_unit_code',\n",
    "    'hjelpeenhetskode_beskrivelse': 'auxiliary_unit_description',\n",
    "    'forretningsadresse_land': 'business_address_country',\n",
    "    'forretningsadresse_landkode': 'business_address_country_code',\n",
    "    'forretningsadresse_postnummer': 'business_address_postal_code',\n",
    "    'forretningsadresse_poststed': 'business_address_city',\n",
    "    'forretningsadresse_adresse': 'business_address_address',\n",
    "    'forretningsadresse_kommune': 'business_address_municipality',\n",
    "    'forretningsadresse_kommunenummer': 'business_address_municipality_number',\n",
    "    'institusjonellSektorkode_kode': 'institutional_sector_code',\n",
    "    'institusjonellSektorkode_beskrivelse': 'institutional_sector_description',\n",
    "    '_links_self_href': 'links_self_href',\n",
    "    'naeringskode2_kode': 'industry_code2_code',\n",
    "    'naeringskode2_beskrivelse': 'industry_code2_description',\n",
    "    'naeringskode3_kode': 'industry_code3_code',\n",
    "    'naeringskode3_beskrivelse': 'industry_code3_description',\n",
    "    'slettedato': 'deletion_date',\n",
    "    'konkursdato': 'bankruptcy_date',\n",
    "    'overordnetEnhet': 'parent_unit',\n",
    "    '_links_overordnetEnhet_href': 'links_parent_unit_href',\n",
    "    'underAvviklingDato': 'under_liquidation_date'\n",
    "}\n"
   ]
  },
  {
   "cell_type": "code",
   "execution_count": null,
   "metadata": {},
   "outputs": [],
   "source": [
    "details_df_t = details_df.rename(columns = column_translations)"
   ]
  },
  {
   "cell_type": "code",
   "execution_count": null,
   "metadata": {},
   "outputs": [],
   "source": [
    "details_df_t['voluntary_vat_registered_descriptions'].unique()"
   ]
  },
  {
   "cell_type": "code",
   "execution_count": null,
   "metadata": {},
   "outputs": [],
   "source": [
    "details_df_t"
   ]
  },
  {
   "cell_type": "code",
   "execution_count": null,
   "metadata": {},
   "outputs": [],
   "source": []
  }
 ],
 "metadata": {
  "kernelspec": {
   "display_name": ".venv",
   "language": "python",
   "name": ".venv"
  },
  "language_info": {
   "codemirror_mode": {
    "name": "ipython",
    "version": 3
   },
   "file_extension": ".py",
   "mimetype": "text/x-python",
   "name": "python",
   "nbconvert_exporter": "python",
   "pygments_lexer": "ipython3",
   "version": "3.12.3"
  }
 },
 "nbformat": 4,
 "nbformat_minor": 2
}
