{
 "cells": [
  {
   "cell_type": "code",
   "execution_count": null,
   "metadata": {},
   "outputs": [],
   "source": [
    "import pandas as pd\n",
    "import requests, os, json\n",
    "from pandas import json_normalize"
   ]
  },
  {
   "cell_type": "code",
   "execution_count": null,
   "metadata": {},
   "outputs": [],
   "source": [
    "suspects = '../../analyses/kindergartens/suspects.csv'\n",
    "\n",
    "# Load the CSV file\n",
    "df = pd.read_csv(suspects, dtype=str)\n",
    "all_ids= pd.concat([df[col] for col in df.columns]).unique()\n",
    "fd = pd.DataFrame(all_ids, columns=['organization number'])"
   ]
  },
  {
   "cell_type": "code",
   "execution_count": null,
   "metadata": {},
   "outputs": [],
   "source": [
    "# # Function to get organization details from organization number\n",
    "# def get_org_details(orgnr):\n",
    "#     url = f'https://data.brreg.no/enhetsregisteret/api/enheter/{orgnr}'\n",
    "#     response = requests.get(url)\n",
    "#     if response.status_code == 200:\n",
    "#         return response.json()\n",
    "#     else:\n",
    "#         return {'organisasjonsnummer': orgnr, 'status': '404 - Not Found'}"
   ]
  },
  {
   "cell_type": "code",
   "execution_count": null,
   "metadata": {},
   "outputs": [],
   "source": [
    "# Function to get organization details from organization number\n",
    "def get_org_details(orgnr):\n",
    "    url = f'https://data.brreg.no/enhetsregisteret/api/enheter/{orgnr}'\n",
    "    filename = f'json_data/{orgnr}.json'\n",
    "    error_log_file = f'json_data/{orgnr}_error.log'\n",
    "\n",
    "    # Check if the JSON file already exists\n",
    "    if os.path.exists(filename):\n",
    "        with open(filename, 'r') as file:\n",
    "            return json.load(file)\n",
    "    # Check if the JSON file already exists\n",
    "    if os.path.exists(error_log_file):\n",
    "        with open(error_log_file, 'r') as file:\n",
    "            return {'organisasjonsnummer': orgnr, 'status': file.read()}\n",
    "\n",
    "    try:\n",
    "        response = requests.get(url, timeout=10)\n",
    "        response.raise_for_status()\n",
    "        data = response.json()\n",
    "        # Save the JSON data to a file\n",
    "        os.makedirs('json_data', exist_ok=True)\n",
    "        with open(filename, 'w') as file:\n",
    "            json.dump(data, file)\n",
    "        return data\n",
    "    except requests.exceptions.HTTPError as http_err:\n",
    "        error_message = f\"HTTP error occurred: {http_err}\"\n",
    "    except requests.exceptions.ConnectionError as conn_err:\n",
    "        error_message = f\"Connection error occurred: {conn_err}\"\n",
    "    except requests.exceptions.Timeout as timeout_err:\n",
    "        error_message = f\"Timeout error occurred: {timeout_err}\"\n",
    "    except requests.exceptions.RequestException as req_err:\n",
    "        error_message = f\"An error occurred: {req_err}\"\n",
    "\n",
    "    # Log the error to a file\n",
    "    with open(error_log_file, 'w') as file:\n",
    "        file.write(error_message)\n",
    "\n",
    "    return {'organisasjonsnummer': orgnr, 'status': error_message}"
   ]
  },
  {
   "cell_type": "code",
   "execution_count": null,
   "metadata": {},
   "outputs": [],
   "source": [
    "len(fd)"
   ]
  },
  {
   "cell_type": "code",
   "execution_count": null,
   "metadata": {},
   "outputs": [],
   "source": [
    "get_org_details('811616532')"
   ]
  },
  {
   "cell_type": "code",
   "execution_count": null,
   "metadata": {},
   "outputs": [],
   "source": [
    "get_org_details('996920917')"
   ]
  },
  {
   "cell_type": "code",
   "execution_count": null,
   "metadata": {},
   "outputs": [],
   "source": [
    "# for id in all_ids[-100:]:\n",
    "#     print(id, type(id))\n",
    "#     print(get_org_details(id))"
   ]
  },
  {
   "cell_type": "code",
   "execution_count": null,
   "metadata": {},
   "outputs": [],
   "source": [
    "# fd1 = fd.iloc[-30:]\n",
    "# fd2 = fd.iloc[:5]\n",
    "# fd = pd.concat((fd1, fd2))"
   ]
  },
  {
   "cell_type": "code",
   "execution_count": null,
   "metadata": {},
   "outputs": [],
   "source": [
    "# Fetch details for all organization numbers\n",
    "fd['Org Details'] = fd['organization number'].apply(get_org_details)"
   ]
  },
  {
   "cell_type": "code",
   "execution_count": null,
   "metadata": {},
   "outputs": [],
   "source": [
    "fd"
   ]
  },
  {
   "cell_type": "code",
   "execution_count": null,
   "metadata": {},
   "outputs": [],
   "source": [
    "# Flatten the JSON structure and handle nested fields\n",
    "details_df= pd.json_normalize(fd['Org Details'], sep='_')"
   ]
  },
  {
   "cell_type": "code",
   "execution_count": null,
   "metadata": {},
   "outputs": [],
   "source": [
    "details_df"
   ]
  },
  {
   "cell_type": "code",
   "execution_count": null,
   "metadata": {},
   "outputs": [],
   "source": [
    "df_404= details_df.loc[details_df.status.notnull(), ['organisasjonsnummer']]"
   ]
  },
  {
   "cell_type": "code",
   "execution_count": null,
   "metadata": {},
   "outputs": [],
   "source": [
    "df_404"
   ]
  },
  {
   "cell_type": "code",
   "execution_count": null,
   "metadata": {},
   "outputs": [],
   "source": [
    "df_404.to_csv('suspect_ids_not_found.csv', index=False)"
   ]
  },
  {
   "cell_type": "code",
   "execution_count": null,
   "metadata": {},
   "outputs": [],
   "source": [
    "details_df = details_df.loc[details_df.status.isnull()]"
   ]
  },
  {
   "cell_type": "code",
   "execution_count": null,
   "metadata": {},
   "outputs": [],
   "source": [
    "# Save the updated dataframe to a new CSV file\n",
    "details_df.to_csv('suspect_ids_full_details.csv', index=False)"
   ]
  },
  {
   "cell_type": "code",
   "execution_count": null,
   "metadata": {},
   "outputs": [],
   "source": [
    "details_df\n"
   ]
  },
  {
   "cell_type": "code",
   "execution_count": null,
   "metadata": {},
   "outputs": [],
   "source": [
    "colnames(details_df)"
   ]
  },
  {
   "cell_type": "code",
   "execution_count": null,
   "metadata": {},
   "outputs": [],
   "source": [
    "details_df.columns"
   ]
  },
  {
   "cell_type": "code",
   "execution_count": null,
   "metadata": {},
   "outputs": [],
   "source": [
    "column_translations = {\n",
    "    'organisasjonsnummer': 'organization_number',\n",
    "    'status': 'status',\n",
    "    'navn': 'name',\n",
    "    'hjemmeside': 'website',\n",
    "    'registreringsdatoEnhetsregisteret': 'registration_date_unit_register',\n",
    "    'registrertIMvaregisteret': 'registered_in_vat_register',\n",
    "    'frivilligMvaRegistrertBeskrivelser': 'voluntary_vat_registered_descriptions',\n",
    "    'antallAnsatte': 'number_of_employees',\n",
    "    'harRegistrertAntallAnsatte': 'has_registered_number_of_employees',\n",
    "    'stiftelsesdato': 'establishment_date',\n",
    "    'registrertIForetaksregisteret': 'registered_in_business_register',\n",
    "    'registrertIStiftelsesregisteret': 'registered_in_foundation_register',\n",
    "    'registrertIFrivillighetsregisteret': 'registered_in_volunteer_register',\n",
    "    'sisteInnsendteAarsregnskap': 'last_submitted_annual_accounts',\n",
    "    'konkurs': 'bankruptcy',\n",
    "    'underAvvikling': 'under_liquidation',\n",
    "    'underTvangsavviklingEllerTvangsopplosning': 'under_forced_liquidation_or_dissolution',\n",
    "    'maalform': 'language_form',\n",
    "    'vedtektsdato': 'articles_of_association_date',\n",
    "    'vedtektsfestetFormaal': 'statutory_purpose',\n",
    "    'aktivitet': 'activity',\n",
    "    'organisasjonsform_kode': 'organization_form_code',\n",
    "    'organisasjonsform_beskrivelse': 'organization_form_description',\n",
    "    'organisasjonsform__links_self_href': 'organization_form_links_self_href',\n",
    "    'postadresse_land': 'postal_address_country',\n",
    "    'postadresse_landkode': 'postal_address_country_code',\n",
    "    'postadresse_postnummer': 'postal_address_postal_code',\n",
    "    'postadresse_poststed': 'postal_address_city',\n",
    "    'postadresse_adresse': 'postal_address_address',\n",
    "    'postadresse_kommune': 'postal_address_municipality',\n",
    "    'postadresse_kommunenummer': 'postal_address_municipality_number',\n",
    "    'naeringskode1_kode': 'industry_code1_code',\n",
    "    'naeringskode1_beskrivelse': 'industry_code1_description',\n",
    "    'hjelpeenhetskode_kode': 'auxiliary_unit_code',\n",
    "    'hjelpeenhetskode_beskrivelse': 'auxiliary_unit_description',\n",
    "    'forretningsadresse_land': 'business_address_country',\n",
    "    'forretningsadresse_landkode': 'business_address_country_code',\n",
    "    'forretningsadresse_postnummer': 'business_address_postal_code',\n",
    "    'forretningsadresse_poststed': 'business_address_city',\n",
    "    'forretningsadresse_adresse': 'business_address_address',\n",
    "    'forretningsadresse_kommune': 'business_address_municipality',\n",
    "    'forretningsadresse_kommunenummer': 'business_address_municipality_number',\n",
    "    'institusjonellSektorkode_kode': 'institutional_sector_code',\n",
    "    'institusjonellSektorkode_beskrivelse': 'institutional_sector_description',\n",
    "    '_links_self_href': 'links_self_href',\n",
    "    'naeringskode2_kode': 'industry_code2_code',\n",
    "    'naeringskode2_beskrivelse': 'industry_code2_description',\n",
    "    'naeringskode3_kode': 'industry_code3_code',\n",
    "    'naeringskode3_beskrivelse': 'industry_code3_description',\n",
    "    'slettedato': 'deletion_date',\n",
    "    'konkursdato': 'bankruptcy_date',\n",
    "    'overordnetEnhet': 'parent_unit',\n",
    "    '_links_overordnetEnhet_href': 'links_parent_unit_href',\n",
    "    'underAvviklingDato': 'under_liquidation_date'\n",
    "}\n"
   ]
  },
  {
   "cell_type": "code",
   "execution_count": null,
   "metadata": {},
   "outputs": [],
   "source": [
    "details_df_t = details_df.rename(columns = column_translations)"
   ]
  },
  {
   "cell_type": "code",
   "execution_count": null,
   "metadata": {},
   "outputs": [],
   "source": [
    "details_df_t['voluntary_vat_registered_descriptions'].unique()"
   ]
  },
  {
   "cell_type": "code",
   "execution_count": null,
   "metadata": {},
   "outputs": [],
   "source": [
    "details_df_t"
   ]
  },
  {
   "cell_type": "code",
   "execution_count": null,
   "metadata": {},
   "outputs": [],
   "source": []
  }
 ],
 "metadata": {
  "kernelspec": {
   "display_name": ".venv",
   "language": "python",
   "name": ".venv"
  },
  "language_info": {
   "codemirror_mode": {
    "name": "ipython",
    "version": 3
   },
   "file_extension": ".py",
   "mimetype": "text/x-python",
   "name": "python",
   "nbconvert_exporter": "python",
   "pygments_lexer": "ipython3",
   "version": "3.12.3"
  }
 },
 "nbformat": 4,
 "nbformat_minor": 2
}
