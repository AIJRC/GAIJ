{
 "cells": [
  {
   "cell_type": "code",
   "execution_count": 1,
   "metadata": {},
   "outputs": [
    {
     "name": "stderr",
     "output_type": "stream",
     "text": [
      "/home/nuno/GAIJ/sandbox/calaim/.venv/lib/python3.12/site-packages/tqdm/auto.py:21: TqdmWarning: IProgress not found. Please update jupyter and ipywidgets. See https://ipywidgets.readthedocs.io/en/stable/user_install.html\n",
      "  from .autonotebook import tqdm as notebook_tqdm\n"
     ]
    }
   ],
   "source": [
    "import os\n",
    "import glob\n",
    "from transformers import AutoModelForCausalLM, AutoTokenizer"
   ]
  },
  {
   "cell_type": "code",
   "execution_count": 2,
   "metadata": {},
   "outputs": [
    {
     "name": "stderr",
     "output_type": "stream",
     "text": [
      "Loading checkpoint shards:  50%|█████     | 1/2 [00:03<00:03,  3.01s/it]"
     ]
    },
    {
     "ename": "",
     "evalue": "",
     "output_type": "error",
     "traceback": [
      "\u001b[1;31mThe Kernel crashed while executing code in the current cell or a previous cell. \n",
      "\u001b[1;31mPlease review the code in the cell(s) to identify a possible cause of the failure. \n",
      "\u001b[1;31mClick <a href='https://aka.ms/vscodeJupyterKernelCrash'>here</a> for more info. \n",
      "\u001b[1;31mView Jupyter <a href='command:jupyter.viewOutput'>log</a> for further details."
     ]
    }
   ],
   "source": [
    "# Specify the path to your LLaMA 3 model directory\n",
    "model_path = \"/Users/nunocalaim/.llama/llama-hf\"\n",
    "model_path = \"/home/nuno/GAIJ/llama_32_3b_Instruct\"\n",
    "\n",
    "# Load the tokenizer\n",
    "tokenizer = AutoTokenizer.from_pretrained(model_path)\n",
    "\n",
    "# Ensure the pad token is set\n",
    "if tokenizer.pad_token is None:\n",
    "    tokenizer.add_special_tokens({'pad_token': tokenizer.eos_token})\n",
    "\n",
    "model = AutoModelForCausalLM.from_pretrained(model_path)\n",
    "model.resize_token_embeddings(len(tokenizer))\n",
    "\n",
    "# Set the pad_token_id and eos_token_id in model configuration\n",
    "model.config.pad_token_id = tokenizer.pad_token_id\n",
    "model.config.eos_token_id = tokenizer.eos_token_id\n",
    "\n",
    "# Print token IDs to confirm they are integers\n",
    "print(\"pad_token_id:\", model.config.pad_token_id)\n",
    "print(\"eos_token_id:\", model.config.eos_token_id)\n",
    "\n",
    "# Make sure eos_token_id and pad_token_id are valid integers\n",
    "assert isinstance(model.config.pad_token_id, int), \"pad_token_id should be an integer.\"\n",
    "assert isinstance(model.config.eos_token_id, int), \"eos_token_id should be an integer.\"\n"
   ]
  },
  {
   "cell_type": "code",
   "execution_count": 3,
   "metadata": {},
   "outputs": [],
   "source": [
    "def generate_response(prompt):\n",
    "    # Tokenize the input text and create an attention mask\n",
    "    inputs = tokenizer(prompt, return_tensors=\"pt\", padding=True)\n",
    "\n",
    "    # Generate a response using the model\n",
    "    output = model.generate(\n",
    "        inputs[\"input_ids\"],\n",
    "        attention_mask=inputs[\"attention_mask\"],\n",
    "        max_new_tokens=150,\n",
    "        num_return_sequences=1,\n",
    "        pad_token_id=model.config.pad_token_id  # Use pad_token_id from the model's config\n",
    "    )\n",
    "\n",
    "    # Decode and print the output text\n",
    "    generated_text = tokenizer.decode(output[0], skip_special_tokens=True)\n",
    "\n",
    "    # Remove the input prompt from the generated response\n",
    "    generated_text = generated_text[len(prompt):].strip()\n",
    "    print(\"Response:\", generated_text)"
   ]
  },
  {
   "cell_type": "code",
   "execution_count": 4,
   "metadata": {},
   "outputs": [],
   "source": [
    "# Specify the folder containing the markdown files\n",
    "folder_path = \"/home/nuno/GAIJ/converted\"\n",
    "\n",
    "# Use glob to list all .md files in the folder\n",
    "markdown_files = glob.glob(os.path.join(folder_path, \"*.md\"))\n",
    "\n",
    "def read_file(file_path):\n",
    "    with open(file_path, 'r', encoding='utf-8') as file:\n",
    "        content = file.read()\n",
    "        return content\n"
   ]
  },
  {
   "cell_type": "code",
   "execution_count": 5,
   "metadata": {},
   "outputs": [],
   "source": [
    "import numpy as np\n",
    "np.random.seed(2)\n",
    "\n",
    "file_path = markdown_files[np.random.randint(0, len(markdown_files))]\n",
    "file_content = read_file(file_path)\n",
    "# print(file_content)"
   ]
  },
  {
   "cell_type": "code",
   "execution_count": 7,
   "metadata": {},
   "outputs": [
    {
     "ename": "",
     "evalue": "",
     "output_type": "error",
     "traceback": [
      "\u001b[1;31mThe Kernel crashed while executing code in the current cell or a previous cell. \n",
      "\u001b[1;31mPlease review the code in the cell(s) to identify a possible cause of the failure. \n",
      "\u001b[1;31mClick <a href='https://aka.ms/vscodeJupyterKernelCrash'>here</a> for more info. \n",
      "\u001b[1;31mView Jupyter <a href='command:jupyter.viewOutput'>log</a> for further details."
     ]
    }
   ],
   "source": [
    "prompt = f\"<|system|> You are a helpful assistant. You process tax-records of norwegian companies and extract information from them. This is the tax-record you will base your answers on {file_content}\\n\\n you provide your response in JSON format\\n<|user|> I want to extract the following information from the tax-record: -company name; -company address; list with names of shareholders; -number of employees; does the company own or rent properties?\\n<|assistant|>\"\n",
    "\n",
    "generate_response(prompt)"
   ]
  },
  {
   "cell_type": "code",
   "execution_count": 6,
   "metadata": {},
   "outputs": [
    {
     "data": {
      "text/plain": [
       "'# Page 1\\n\\n———\\n\\n——\\n\\nBrønnøysundregistrene\\n\\nÅRSREGNSKAP FOR REGNSKAPSÅRET 2020\\n\\n-\\n\\nGENERELL INFORMASJON\\n\\nJournalnummer:\\n\\n2021 270160\\n\\nEnheten\\n\\nOrganisasjonsnummer:\\n\\n811 235 482\\n\\nOrganisasjonsform:\\n\\nAksjeselskap\\n\\nForetaksnavn:\\n\\nARNE DULSRUD AS\\n\\nForretningsadresse:\\n\\nStorgata 101\\n\\n2390 MOELV\\n\\nRegnskapsår\\n\\nÅrsregnskapets periode:\\n\\n01.01.2020\\n\\n-\\n\\n31.12.2020\\n\\nKonsern\\n\\nMorselskap i konsern:\\n\\nJa\\n\\nKonsernregnskap lagt ved:\\n\\nNei\\n\\nRegnskapsregler\\n\\nRegler for små foretak benyttet:\\n\\nJa\\n\\nBenyttet ved utarbeidelsen av\\n\\nårsregnskapet til selskapet:\\n\\nRegnskapslovens alminnelige regler\\n\\nÅrsregnskapet fastsatt av kompetent\\n\\norgan\\n\\nBekreftet av representant for selskapet:\\n\\nDagfinn Dulsrud\\n\\nDato for fastsettelse av årsregnskapet:\\n\\n05.05.2021\\n\\nRevisjon\\n\\nÅrsregnskapet er utarbeidet av ekstern\\n\\nautorisert regnskapsfører:\\n\\nJa\\n\\nEkstern autorisert regnskapsfører har i\\n\\nløpet av regnskapsåret bistått ved den\\n\\nløpende regnskapsføringen eller utført\\n\\nandre tjenester for selskapet enn å\\n\\nutarbeide årsregnskapet:\\n\\nJa\\n\\nGrunnlag for avgivelse\\n\\nÅr 2020: Årsregnskap er elektronisk innlevert.\\n\\nÅr 2019:\\n\\nTall er hentet fra elektronisk innlevert årsregnskap fra 2020.\\n\\nDet er ikke krav til at årsregnskapet m.v.\\n\\nsom sendes til Regnskapsregisteret\\n\\ner undertegnet.\\n\\nKontrollen på at dette er utført ligger hos revisor/enhetens\\n\\nøverste organ. Sikkerheten ivaretas ved at innsender har rolle/rettighet\\n\\nfor innsending av årsregnskapet via Altinn,\\n\\nog ved at det bekreftes at\\n\\nårsregnskapet er fastsatt av kompetent organ.\\n\\nBrønnøysundregistrene,\\n\\n09.06.2021\\n\\nBrønnøysundregistrene\\n\\nTelefon: 75 00 75 00\\n\\nPostadresse: Postboks 900, 8910 Brønnøysund\\n\\nE-post: firmapost@brreg.no Internett: www.brreg.no\\n\\nOrganisasjonsnummer: 974 760 673\\n\\n\\n# Page 2\\n\\nOrganisasjonsnr:\\n\\n811 235 482\\n\\nARNE DULSRUD AS\\n\\nRESULTATREGNSKAP\\n\\nBeløp i:\\n\\nNOK\\n\\nNote\\n\\n2020\\n\\n2019\\n\\nRESULTATREGNSKAP\\n\\nInntekter\\n\\nSalgsinntekt\\n\\n426\\n\\n000\\n\\n426\\n\\n000\\n\\nSum inntekter\\n\\n426\\n\\n000\\n\\n426\\n\\n000\\n\\nKostnader\\n\\nLønnskostnad\\n\\nOrdinære avskrivninger\\n\\n127\\n\\n127\\n\\nAndre driftskostnader\\n\\n119\\n\\n342\\n\\n110\\n\\n575\\n\\nSum kostnader\\n\\n123\\n\\n469\\n\\n114\\n\\n702\\n\\nDriftsresultat\\n\\n302\\n\\n531\\n\\n311\\n\\n298\\n\\nFinansinntekter og\\n\\nfinanskostnader\\n\\nRenteinntekt fra foretak\\n\\ni samme konsern\\n\\n46\\n\\n602\\n\\n46\\n\\n591\\n\\nAnnen renteinntekt\\n\\n103\\n\\n20\\n\\nAndre finansinntekter\\n\\n907\\n\\n173\\n\\nSum finansinntekter\\n\\n48\\n\\n612\\n\\n48\\n\\n784\\n\\nAnnen rentekostnad\\n\\n53\\n\\n050\\n\\n56\\n\\n450\\n\\nSum finanskostnader\\n\\n53\\n\\n050\\n\\n56\\n\\n450\\n\\nNetto finans\\n\\n-4\\n\\n438\\n\\n-7\\n\\n666\\n\\nOrdinært resultat før\\n\\nskattekostnad\\n\\n298\\n\\n093\\n\\n303\\n\\n632\\n\\nSkattekostnad på ordinært\\n\\nresultat\\n\\n65\\n\\n677\\n\\n66\\n\\n909\\n\\nOrdinært resultat etter\\n\\nskattekostnad\\n\\n232\\n\\n416\\n\\n236\\n\\n723\\n\\nÅrsresultat\\n\\n232\\n\\n416\\n\\n236\\n\\n723\\n\\nÅrsresultat etter\\n\\nminoritetsinteresser\\n\\n232\\n\\n416\\n\\n236\\n\\n723\\n\\nTotalresultat\\n\\n232\\n\\n416\\n\\n236\\n\\n723\\n\\nOverføringer og\\n\\ndisponeringer\\n\\nOrdinært utbytte\\n\\nKonsernbidrag\\n\\n211\\n\\n380\\n\\nAvsatt til annen\\n\\negenkapital\\n\\n232\\n\\n416\\n\\n25\\n\\n343\\n\\nOverført fra annen\\n\\negenkapital\\n\\nSum overføringer og\\n\\ndisponeringer\\n\\n232\\n\\n416\\n\\n236\\n\\n723\\n\\nUtskriftsdato 09.06.2021\\n\\nOrganisasjonsnr 811 235 482\\n\\nSide 1 av 4\\n\\n\\n# Page 3\\n\\nUtskriftsdato 09.06.2021\\n\\nOrganisasjonsnr 811 235 482\\n\\nSide 2 av 4\\n\\n\\n# Page 4\\n\\nOrganisasjonsnr:\\n\\n811 235 482\\n\\nARNE DULSRUD AS\\n\\nBALANSE\\n\\nBeløp i:\\n\\nNOK\\n\\nNote\\n\\n2020\\n\\n2019\\n\\nBALANSE -\\n\\nEIENDELER\\n\\nAnleggsmidler\\n\\nImmaterielle eiendeler\\n\\nUtsatt skattefordel\\n\\n163\\n\\n366\\n\\n170 027\\n\\nSum immaterielle eiendeler\\n\\n163\\n\\n366\\n\\n170\\n\\n027\\n\\nVarige driftsmidler\\n\\nTomter og bygninger\\n\\n5,\\n\\n212\\n\\n378\\n\\n212\\n\\n378\\n\\nMaskiner og anlegg\\n\\nSkip,\\n\\nrigger og lignende\\n\\ninventar o.1.\\n\\n36\\n\\n737\\n\\n40\\n\\n864\\n\\nDriftsløsøre,\\n\\nSum varige driftsmidler\\n\\n249\\n\\n115\\n\\n253\\n\\n242\\n\\nFinansielle anleggsmidler\\n\\nInvestering i datterselskap\\n\\n761\\n\\n380\\n\\n761\\n\\n380\\n\\nInvestering i annet\\n\\nforetak i samme konsern\\n\\nLån til foretak i samme\\n\\nkonsern\\n\\n922\\n\\n500\\n\\n972\\n\\n500\\n\\nInvesteringer i\\n\\ntilknyttet selskap\\n\\nInvesteringer i aksjer og\\n\\nandeler\\n\\n200\\n\\n200\\n\\nSum finansielle\\n\\nanleggsmidler\\n\\n684\\n\\n080\\n\\n734\\n\\n080\\n\\nSum anleggsmidler\\n\\n096\\n\\n561\\n\\n157\\n\\n349\\n\\nOmløpsmidler\\n\\nVarer\\n\\nFordringer\\n\\nAndre kortsiktige\\n\\n699\\n\\n109\\n\\n317\\n\\n616\\n\\nfordringer\\n\\nSum fordringer\\n\\n699\\n\\n109\\n\\n317\\n\\n616\\n\\nInvesteringer\\n\\nAksjer og andeler i\\n\\nforetak i samme konsern\\n\\nBankinnskudd,\\n\\nkontanter\\n\\nog lignende\\n\\nBankinnskudd, kontanter o.\\n\\n1\\n\\n15 362\\n\\n130 244\\n\\nSum bankinnskudd,\\n\\nkontanter og lignende\\n\\n15 362\\n\\n130 244\\n\\nSum omlepsmidler\\n\\n714 472\\n\\n447 861\\n\\nUtskriftsdato 09.06.2021\\n\\nOrganisasjonsnr 811\\n\\n235 482\\n\\nSide 3 av 4\\n\\n\\n# Page 5\\n\\nSUM EIENDELER\\n\\n2 811 032\\n\\n2 605 209\\n\\nBALANSE -\\n\\nEGENKAPITAL OG\\n\\nGJELD\\n\\nEgenkapital\\n\\nInnskutt egenkapital\\n\\nAksjekapital\\n\\n(50 aksjer å\\n\\n4\\n\\n300\\n\\n000\\n\\n300\\n\\n000\\n\\nkr 6000)\\n\\n3,\\n\\nBeholdning av egne aksjer\\n\\nSum innskutt egenkapital\\n\\n300\\n\\n000\\n\\n300\\n\\n000\\n\\nOpptjent egenkapital\\n\\n984\\n\\n406\\n\\n751\\n\\n990\\n\\nAnnen egenkapital\\n\\nSum opptjent egenkapital\\n\\n984\\n\\n406\\n\\n751\\n\\n990\\n\\nSum egenkapital\\n\\n284\\n\\n406\\n\\n051\\n\\n990\\n\\nGjeld\\n\\nLangsiktig gjeld\\n\\nUtsatt skatt\\n\\nAnnen langsiktig gjeld\\n\\nKonvertible lån\\n\\nObligasjonslån\\n\\nGjeld til\\n\\nkredittinstitusjoner\\n\\n238\\n\\n092\\n\\n300\\n\\n000\\n\\nØvrig langsiktig gjeld\\n\\nSum annen langsiktig gjeld\\n\\n238\\n\\n092\\n\\n300\\n\\n000\\n\\nSum langsiktig gjeld\\n\\n238\\n\\n092\\n\\n300\\n\\n000\\n\\nKortsiktig gjeld\\n\\nBetalbar skatt\\n\\n59\\n\\n016\\n\\n62\\n\\nSkyldige offentlige\\n\\navgifter\\n\\n92\\n\\n940\\n\\n93\\n\\n480\\n\\nSkyldig utbytte\\n\\n136\\n\\n578\\n\\n159\\n\\n678\\n\\nAnnen kortsiktig gjeld\\n\\nSum kortsiktig gjeld\\n\\n288\\n\\n534\\n\\n253\\n\\n219\\n\\nSum gjeld\\n\\n526\\n\\n626\\n\\n1 553\\n\\n219\\n\\nSUM EGENKAPITAL OG GJELD\\n\\n811\\n\\n032\\n\\n2 605\\n\\n209\\n\\nUtskriftsdato 09.06.2021\\n\\nOrganisasjonsnr 811 235 482\\n\\nSide 4 av 4\\n\\n\\n# Page 6\\n\\nOrganisasjonsnr:\\n\\n811 235 482\\n\\nARNE DULSRUD AS\\n\\nNOTEOPPLY SNINGER\\n\\n-\\n\\nSELSKAP\\n\\n- alle poster oppgitt i hele\\n\\ntall\\n\\nNote\\n\\nRegnskapsprinsipper\\n\\nNote\\n\\n4\\n\\nAntall aksjer og aksjeeiere\\n\\nAnt.\\n\\nPålydende\\n\\nBokført verdi\\n\\nAksjeklasse\\n\\naksjer\\n\\nOrdinære aksjer\\n\\n50.00\\n\\n6000.00\\n\\n300000.00\\n\\nAksjeeiere -\\n\\nfritekst\\n\\nAntall\\n\\nEierandel\\n\\nAksjeklasse\\n\\nDagfinn Dulsrud\\n\\n43.00\\n\\n86.00%\\n\\nOrdinære\\n\\naksjer\\n\\nArne Dulsrud\\n\\n7.00\\n\\n14.00%\\n\\nOrdinære\\n\\naksjer\\n\\nSum\\n\\nSum antall\\n\\nSum eierandel\\n\\n50.00\\n\\n100.00%\\n\\nNote\\n\\nYtelser til ledende personer\\n\\nEr det gitt ytelser til ledende person:\\n\\nNei\\n\\nYtelser til daglig leder\\n\\nYtelser\\n\\nLønn\\n\\nPensj.forpl\\n\\nAndre godtqj.\\n\\nNote\\n\\nAntall årsverk i regnskapsåret\\n\\nVirksomheten har hatt følgende antall årsverk:\\n\\n0.00\\n\\nNote\\n\\n5\\n\\nLån og sikkerhetsstillelse til ledende personer og aksjeeiere\\n\\n\\n# Page 7\\n\\nEr det gitt lån eller sikkerhetsstillelse til ledende personer:\\n\\nNei\\n\\nNote\\n\\n8\\n\\nKonsern,\\n\\ntilknyttet selskap og datterselskap\\n\\nTilknyttet selskap/datterselskap\\n\\nNavn og adresse\\n\\nEierandel\\n\\nStemmeandel\\n\\nEgenkapital\\n\\nResultat\\n\\nDulsrud ZKlær AS\\n\\n100.00%\\n\\n100.00%\\n\\n1127842.00\\n\\n165725.00\\n\\n\\n# Page 8\\n\\nÅrsregnskap 2020\\n\\nARNE DULSRUD AS\\n\\nResultat\\n\\nBalanse\\n\\nNoter\\n\\nRevisors beretning\\n\\nOrg.nr.: 811 235 482\\n\\n\\n# Page 9\\n\\nResultatregnskap\\n\\nARNE DULSRUD AS\\n\\nNote\\n\\n2020\\n\\n2019\\n\\nDriftsinntekter og -kostnader\\n\\n426 000\\n\\n426 000\\n\\nSalgsinntekt\\n\\nSum driftsinntekter\\n\\n426 000\\n\\n426 000\\n\\nOrdinære avskrivninger\\n\\n4127\\n\\n4127\\n\\nAndre driftskostnader\\n\\n119 342\\n\\n110 575\\n\\nSum driftskostnader\\n\\n123 469\\n\\n114 702\\n\\nDriftsresultat\\n\\n302 531\\n\\n311 298\\n\\nFinansinntekter og -kostnader\\n\\n46 602\\n\\n46 591\\n\\nRenteinntekt fra selskap i samme konsern\\n\\nRenteinntekter\\n\\n103\\n\\n20\\n\\nAndre finansinntekter\\n\\n1 907\\n\\n2173\\n\\nRentekostnader\\n\\n53 050\\n\\n56 450\\n\\n-4 438\\n\\n-7 666\\n\\nResultat av finansposter\\n\\nOrdinært resultat før skattekostnad\\n\\n298 093\\n\\n303 632\\n\\nSkattekostnad på ordinært resultat\\n\\n65 677\\n\\n66 909\\n\\nOrdinært resultat\\n\\n232 416\\n\\n236 723\\n\\nÅrets resultat\\n\\n232 416\\n\\n236 723\\n\\nOverføringer\\n\\nAvsatt konsernbidrag\\n\\n0\\n\\n211 380\\n\\nAvsatt til annen egenkapital\\n\\n232 416\\n\\n25 343\\n\\nSum overføringer\\n\\n232 416\\n\\n236 723\\n\\nARNE DULSRUD AS\\n\\nSide 2\\n\\n\\n# Page 10\\n\\nBalanse\\n\\nARNE DULSRUD AS\\n\\nEIENDELER\\n\\nNote\\n\\n2020\\n\\n2019\\n\\nANLEGGSMIDLER\\n\\nImmaterielle eiendeler\\n\\nUtsatt skattefordel\\n\\n163 366\\n\\n170 027\\n\\nSum immaterielle eiendeler\\n\\n163 366\\n\\n170 027\\n\\nVarige driftsmidler\\n\\nTomter og bygninger\\n\\n5,6\\n\\n212 378\\n\\n212 378\\n\\nDriftsløsøre, inventar o.l.\\n\\n36 737\\n\\n40 864\\n\\nSum varige driftsmidler\\n\\n249 115\\n\\n253 242\\n\\nFinansielle anleggsmidler\\n\\nInvesteringer i datterselskap\\n\\n761 380\\n\\n761 380\\n\\nLån til foretak i samme konsern\\n\\n922 500\\n\\n972 500\\n\\nInvesteringer i aksjer og andeler\\n\\n200\\n\\n200\\n\\nSum finansielle anleggsmidler\\n\\n1 684 080\\n\\n1 734 080\\n\\nSum anleggsmidler\\n\\n2 096 561\\n\\n2 157 349\\n\\nOMLØPSMIDLER\\n\\nFordringer\\n\\nAndre kortsiktige fordringer\\n\\n699 109\\n\\n317 616\\n\\n699 109\\n\\n317616\\n\\nSum fordringer\\n\\nBankinnskudd, kontanter o.l.\\n\\nBankinnskudd, kontanter o.l.\\n\\n15 362\\n\\n130 244\\n\\nSum bankinnskudd, kontanter o.l.\\n\\n15 362\\n\\n130 244\\n\\nSum omløpsmidler\\n\\n714472\\n\\n447 861\\n\\nSUM EIENDELER\\n\\n2 811 032\\n\\n2 605 209\\n\\nARNE DULSRUD AS\\n\\nSide 3\\n\\n\\n# Page 11\\n\\nBalanse\\n\\nARNE DULSRUD AS\\n\\nEGENKAPITAL OG GJELD\\n\\nNote\\n\\n2020\\n\\n2019\\n\\nEGENKAPITAL\\n\\nInnskutt egenkapital\\n\\nAksjekapital (50 aksjer å kr 6000)\\n\\n3,4\\n\\n300 000\\n\\n300 000\\n\\nSum innskutt egenkapital\\n\\n300 000\\n\\n300 000\\n\\nOpptjent egenkapital\\n\\nAnnen egenkapital\\n\\n984 406\\n\\nSum opptjent egenkapital\\n\\n751 990\\n\\n984 406\\n\\n751 990\\n\\nSum egenkapital\\n\\n1 284 406\\n\\n1051 990\\n\\nGJELD\\n\\nGjeld til kredittinstitusjoner\\n\\n1 238 092\\n\\n1 300 000\\n\\nSum langsiktig gjeld\\n\\n1238 092\\n\\n1 300 000\\n\\nKortsiktig gjeld\\n\\nBetalbar skatt\\n\\n59 016\\n\\n62\\n\\nSkyldige offentlige avgifter\\n\\n92 940\\n\\n93 480\\n\\nAnnen kortsiktig gjeld\\n\\n136 578\\n\\nSum kortsiktig gjeld\\n\\n159 678\\n\\n288 534\\n\\n253 219\\n\\nSum gjeld\\n\\n1 526 626\\n\\n1553 219\\n\\nSUM EGENKAPITAL OG GJELD\\n\\n2 811 032\\n\\n2 605 209\\n\\nMoelv,/den 23. april 2021\\n\\n——\\n\\nMAT\\n\\nÅ\\n\\ngfinn Dutsråd\\n\\nnant\\n\\nstyreleder\\n\\nARNE DULSRUD AS\\n\\nSide 4\\n\\n\\n# Page 12\\n\\nNoter 2020\\n\\nNote 1 Regnskapsprinsipper\\n\\nÅrsregnskapet er satt opp i samsvar med regnskapsloven. Det er utarbeidet etter norske\\n\\nregnskapsstandarder.\\n\\nDriftsinntekter og kostnader\\n\\nInntektsføring skjer etter opptjeningsprinsippet som normalt vil være leveringstidspunktet for varer og\\n\\ntjenester. Kostnader medtas etter sammenstillingsprinsippet, dvs. at kostnader medtas i samme periode\\n\\nsom tilhørende inntekter inntektsføres.\\n\\nHovedregel for vurdering og klassifisering av eiendeler og gjeld\\n\\nEiendeler bestemt til varig eie eller bruk er klassifisert som anleggsmidler. Andre eiendeler er klassifisert\\n\\nsom omløpsmidler. Fordringer som skal tilbakebetales innen et år er uansett klassifisert som omløpsmidler.\\n\\nVed klassifisering av kortsiktig og langsiktig gjeld er analoge kriterier lagt til grunn.\\n\\nAnleggsmidler vurderes til anskaffelseskost, men nedskrives til virkelig verdi når verdifallet forventes ikke\\n\\nå være forbigående. Anleggsmidler med begrenset økonomisk levetid avskrives planmessig. Langsiktig gjeld\\n\\nbalanseføres til nominelt mottatt beløp på etableringstidspunktet.\\n\\nOmløpsmidler vurderes til laveste av anskaffelseskost og virkelig verdi. Kortsiktig gjeld balanseføres til\\n\\nnominelt mottatt beløp på etableringstidspunktet.\\n\\nSkatt\\n\\nSkattekostnaden i resultatregnskapet omfatter både periodens betalbare skatt og endring i utsatt skatt.\\n\\nUtsatt skatt er beregnet med 22% på grunnlag av de midlertidige forskjeller som eksisterer mellom\\n\\nregnskapsmessige og skattemessige verdier, samt ligningsmessig underskudd til fremføring ved utgangen av\\n\\nregnskapsåret . Skatteøkende og skattereduserende midlertidige forskjeller som reverserer eller kan\\n\\nreversere i samme periode er utlignet og nettoført. Utsatt skatt på merverdier i forbindelse med oppkjøp\\n\\nav datterselskap blir ikke utlignet.\\n\\nEnkelte poster er vurdert etter andre regler. Postene det gjelder vil være blant de postene som omhandles\\n\\nnedenfor.\\n\\nNote 2 Lønnskostnader, antall ansatte, godtgjørelser, lån til ansatte m.m.\\n\\nSelskapet har ingen ansatte.\\n\\nDet er ikke utbetalt eller avsatt godtgjørelse til styret for 2020\\n\\nPensjonsforpliktelser\\n\\nSelskapet er ikke pliktig til å ha tjenestepensjonsordning etter lov om obligatorisk tjenestepensjon.\\n\\nRevisor\\n\\nKostnadsført revisjonshonorar for 2020 utgjør kr 16 200. Annen bistand utgjør kr. 13 000,\\n\\nalle beløp eks mva.\\n\\nARNE DULSRUD AS\\n\\nSide 5\\n\\n\\n# Page 13\\n\\nNoter 2020\\n\\nNote 3 Egenkapital\\n\\nAksjekapital\\n\\nAnnen egenkapital\\n\\nSum egenkapital\\n\\nPr. 01.01.2020\\n\\n300 000\\n\\n751 990\\n\\n1 051 990\\n\\nÅrets resultat\\n\\n232 416\\n\\n232 416\\n\\nPr. 31.12.2020\\n\\n300 000\\n\\n984 406\\n\\n1 284 406\\n\\nAvgitt konsernbidrag kr. 0 er aktivert på investering i datterselskapet.\\n\\nNote 4 Aksjonærer\\n\\nAksjekapitalen i ARNE DULSRUD AS pr. 31.12 består av:\\n\\nAntall\\n\\nPålydende\\n\\nBokført\\n\\nOrdinære aksjer\\n\\n50\\n\\n6 000,0\\n\\n300 000\\n\\nSum\\n\\n50\\n\\n300 000\\n\\nEierstruktur\\n\\nDe største aksjonærene i % pr. 31.12 var:\\n\\nOrdinære\\n\\nEierandel\\n\\nStemmeandel\\n\\n43\\n\\nDagfinn Dulsrud\\n\\n86,0\\n\\n86,0\\n\\nArne Dulsrud\\n\\n7\\n\\n14,0\\n\\n14,0\\n\\nTotalt antall aksjer\\n\\n50\\n\\n100,0\\n\\n100,0\\n\\nAksjer og opsjoner eiet av medlemmer i styret og daglig leder\\n\\nNavn\\n\\nVerv\\n\\nOrdinære\\n\\nDagfinn Dulsrud\\n\\nstyreleder\\n\\n43\\n\\nTotalt antall aksjer\\n\\n43\\n\\nNote 5 Langsiktig gjeld\\n\\nGjeld som forfaller mer enn fem år etter regnskapsårets slutt\\n\\n2020\\n\\nGjeld til kredittinstitusjon\\n\\n263 041\\n\\n2020\\n\\nPantesikret gjeld\\n\\nPantelån\\n\\n1 238 092\\n\\nBokført verdi av eiendeler stillet som pant\\n\\n2020\\n\\nBygg\\n\\n212 378\\n\\nObligasjon lyder på kr. 3.500.000\\n\\nSelskapets eiendom er i tillegg stillet som sikkerhet for lån og kassekreditt i datterselskapet Dulsrud Klær\\n\\nAS. Pr. 31.12.2020 gjelder dette lån kr. 43 437,-, og kassekreditt, pr 31 12 2020 innestående kr. 540 259,-\\n\\n(limit 1.200.000).\\n\\nARNE DULSRUD AS\\n\\nSide 6\\n\\n\\n# Page 14\\n\\nNoter 2020\\n\\nNote 6 Anleggsmidler\\n\\nBygninger\\n\\nDriftsløsøre,\\n\\nSum\\n\\ninventar ol.\\n\\nog tomter\\n\\nAnskaffelseskost pr. 01.01.20\\n\\n2915 052\\n\\n82 550\\n\\n2997 602\\n\\n= Anskaffelseskost 31.12.20\\n\\n2 915 052\\n\\n82 550\\n\\n2 997 602\\n\\nAkkumulerte avskrivninger 31.12.20\\n\\n2 702 674\\n\\n45 813\\n\\n2 748 487\\n\\n= Bokført verdi 31.12.20\\n\\n212 378\\n\\n36 737\\n\\n249 115\\n\\nÅrets ordinære avskrivninger\\n\\n4127\\n\\n4127\\n\\nØkonomisk levetid\\n\\n33 år\\n\\n20 år\\n\\nNote 7 Skatt\\n\\nÅrets skattekostnad\\n\\n2020\\n\\n2019\\n\\nResultatført skatt på ordinært resultat\\n\\nBetalbar skatt\\n\\n59 016\\n\\n59 682\\n\\nEndring i utsatt skattefordel\\n\\n6 661\\n\\n7227\\n\\nSkattekostnad ordinært resultat\\n\\n65 677\\n\\n66 909\\n\\nSkattepliktig inntekt:\\n\\nOrdinært resultat før skatt\\n\\n298 093\\n\\n303 632\\n\\nPermanente forskjeller\\n\\n438\\n\\n500\\n\\n-30 277\\n\\n-32 848\\n\\nEndring i midlertidige forskjeller\\n\\nAvgitt konsernbidrag\\n\\n0\\n\\n-271 000\\n\\nSkattepliktig inntekt\\n\\n268 255\\n\\n284\\n\\nBetalbar skatt i balansen:\\n\\n59 016\\n\\n59 682\\n\\nBetalbar skatt på årets resultat\\n\\nBetalbar skatt på avgitt konsernbidrag\\n\\n0\\n\\n-59 620\\n\\nSum betalbar skatt i balansen\\n\\n59 016\\n\\n62\\n\\nSkatteeffekten av midlertidige forskjeller som har gitt opphav til utsatt skatt og utsatte skattefordeler,\\n\\nspesifisert på typer av midlertidige forskjeller\\n\\n2020\\n\\n2019\\n\\nEndring\\n\\n-742 573\\n\\n-772 850\\n\\n-30 277\\n\\nVarige driftsmidler\\n\\nSum\\n\\n-742 573\\n\\n-772 850\\n\\n-30 277\\n\\nGrunnlag for utsatt skattefordel\\n\\n-742 573\\n\\n-772 850\\n\\n-30 277\\n\\n-163 366\\n\\n-170 027\\n\\n-6 661\\n\\nUtsatt skattefordel (22 %)\\n\\nARNE DULSRUD AS\\n\\nSide 7\\n\\n\\n# Page 15\\n\\nNoter 2020\\n\\nNote 8 Datterselskap, tilknyttet selskap m.v.\\n\\nAnskaffelses-\\n\\nEierandel/\\n\\nForretnings-\\n\\nFirma\\n\\ntidspunkt\\n\\nkontor\\n\\nstemmeandel\\n\\nEgenkapital\\n\\nResultat\\n\\nDulsrud Klær AS\\n\\n14.12.1988\\n\\nRingsaker\\n\\n100%\\n\\n1 127 842\\n\\n165 725\\n\\nMellomværende med selskap i samme konsern\\n\\n2020\\n\\n2019\\n\\n684 135\\n\\n574 296\\n\\nKortsiktig fordring Dulsrud Klær AS\\n\\nLangsiktig lån Dulsrud Klær AS\\n\\n922 500\\n\\n972 500\\n\\nKonsernbidrag til Dulsrud Klær AS\\n\\n0\\n\\n-271 000\\n\\nDet utarbeides ikke konsernregnskap.\\n\\nARNE DULSRUD AS\\n\\nSide 8\\n\\n\\n# Page 16\\n\\nBDO Ag\\n\\nParkgata 83\\n\\nIBDO\\n\\nPost boks 460\\n\\n2304 Hamar\\n\\nUavhengig revisors beret ning\\n\\nTil generalforsamlingen i Arne Dulsrud AS\\n\\nUttalelse om revisjonen av arsregnskapet\\n\\nKonklusjon\\n\\nVi har revidert årsregnskapet til Arne Dulsrud AS.\\n\\nÅrsregnskapet består av:\\n\\nEtter vår mening:\\n\\ne\\n\\nBalanse per 31. desember 2020\\n\\nEr arsregnskapet avgitt i samsvar med lov og\\n\\ne\\n\\nResultatregnskap for 2020\\n\\nforskrifter og gir et rettvisende bilde av\\n\\ne\\n\\nNoter til arsregnskapet, herunder et\\n\\nselskapets finansielle stilling per 31. desember\\n\\nsammendrag av viktige\\n\\n2020 og av dets resultater for regnskapsaret\\n\\nregnskapsprinsipper.\\n\\navsluttet per denne datoen i samsvar med\\n\\nregnskapslovens regler og god regnskapsskikk i\\n\\nNorge.\\n\\nGrunnlag for konklusjonen\\n\\nVi har gjennomført revisjonen i samsvar med lov, forskrift og god revisjonsskikk i Norge, herunder\\n\\nde internasjonale revisjonsstandardene International Aandards on Auditing (ISA-ene). Våre\\n\\noppgaver og plikter i henhold til disse standardene er beskrevet i Revisors oppgaver og plikter ved\\n\\nrevisjon av årsregnskapet. Vi er uavhengige av selskapet slik det kreves i lov og forskrift, og har\\n\\noverholdt våre øvrige etiske forpliktelser i samsvar med disse kravene. Etter vår oppfatning er\\n\\ninnhentet revisjonsbevis tilstrekkelig og hensiktsmessig som grunnlag for vår konklusjon.\\n\\nStyrets ansvar for årsregnskapet\\n\\nStyret (ledelsen) er ansvarlig for å utarbeide årsregnskapet i samsvar med lov og forskrift er,\\n\\nherunder for at det gir et rettvisende bilde i samsvar med regnskapslovens regler og god\\n\\nregnskapsskikk i Norge. Ledelsen er også ansvarlig for slik internkontroll som den finner nødvendig\\n\\nfor å kunne utarbeide et årsregnskap som ikke inneholder vesentlig feilinformasjon, verken som\\n\\nfølge av misligheter eller utilsiktede feil.\\n\\nVed utarbeidelsen av årsregnskapet må ledelsen ta standpunkt til selskapets evne til fortsatt drift\\n\\nog opplyse om forhold av betydning for fortsatt drift. Forutsetningen om fortsatt drift skal legges til\\n\\ngrunn for årsregnskapet så lenge det ikke er sannsynlig at virksomheten vil bli avviklet.\\n\\nRevisors oppgaver og plikter ved revisjonen av årsregnskapet\\n\\nVårt mål er å oppnå betryggende sikkerhet for at årsregnskapet som helhet ikke inneholder\\n\\nvesent lig feilinformasjon, verken som følge av misligheter eller utilsiktede feil, og å avgi en\\n\\nrevisjonsberetning som inneholder vår konklusjon. Betryggende sikkerhet er en høy grad av\\n\\nsikkerhet, men ingen garanti for at en revisjon utført i samsvar med lov, forskrift og god\\n\\nrevisjonsskikk i Norge, herunder ISA-ene, alltid vil avdekke vesentlig feilinformasjon som eksisterer.\\n\\nFeilinformasjon kan oppstå som følge av misligheter eller utilsiktede feil. Feilinformasjon blir\\n\\nvurdert som vesentlig dersom den enkeltvis eller samlet med rimelighet kan forventes å påvirke\\n\\nøkonomiske beslutninger som brukerne foretar basert på årsregnskapet.\\n\\nUavhengig revisors beretning Arne Dulsrud AS- 2020\\n\\nside 1 av 2\\n\\n\\n# Page 17\\n\\nIBDO\\n\\nFor videre beskrivelse av revisors oppgaver og plikter vises det til:\\n\\nhtt ps:/ / revisorforeningen. no/ revisj onsberet ninger\\n\\nUttalelse om andre lovmessige krav\\n\\nKonklusjon om registrering og dokument asjon\\n\\nBasert på vår revisjon av årsregnskapet som beskrevet ovenfor, og kontrollhandlinger vi har funnet\\n\\nnødvendig i henhold til internasjonal standard for att est asjonsoppdrag (ISAE) 3000\\n\\n«Att est asj onsoppdrag som ikke er revisjon eller forenklet revisorkontroll av historisk finansiell\\n\\ninformasjon», mener vi at ledelsen har oppfylt sin plikt til å sørge for ordentlig og oversiktlig\\n\\nregistrering og dokumentasjon av selskapets regnskapsopplysninger i samsvar med lov og god\\n\\nbokføringsskikk i Norge.\\n\\nBDO AS\\n\\nHåvard Hammertrø\\n\\nstatsautorisert revisor\\n\\n(elektronisk signert)\\n\\nUavhengig revisors beretning Arne Dulsrud AS- 2020\\n\\nside 2 av 2\\n\\nBDO AS, et norsk aksjeselskap, er delt aker i BDO International Limited, et engelsk selskap med begrenset ansvar, og er en del av det internasjonale nettverket BDO,\\n\\nsom består av uavhengige selskaper i de enkelte land. Foretaksregisteret: NO 993 606 650 MVA.\\n\\n\\n# Page 18\\n\\nPENN3O\\n\\nSignaturene i dette dokumentet er juridisk bindende. Dokument signert med \"Penneo™ - sikker digital signatur\".\\n\\nDe signerende parter sin identitet er registrert, og er listet nedenfor.\\n\\n\"Med min signatur bekrefter jeg alle datoer og innholdet i dette dokument.”\\n\\nHåvard Hammertrø\\n\\nStatsautorisert revisor\\n\\nSerienummer. 9578-5993-4-1585986\\n\\nIP: 188.95.XXX.XXX\\n\\n2021-04-27 14:42:55Z\\n\\n= bank ID iS,\\n\\nAdobe Reader, skal du kunne se at dokumentet er sertifisert av Penneo e-\\n\\nDokumentet er signert digitalt, med Penneo.com. Alle digitale signatur-data i\\n\\ndokumentet er sikret og validert av den datamaskin-utregnede hash-verdien av det\\n\\nsignature service <penneo@penneo.com>. Dette garanterer at innholdet i\\n\\ndokumentet ikke har blitt endret.\\n\\nopprinnelige dokument. Dokumentet er låst og tids-stemplet med et sertifikat fra\\n\\nen betrodd tredjepart. All kryptografisk bevis er integrert i denne PDF, for fremtidig\\n\\nvalidering (hvis nødvendig).\\n\\nDet er lett å kontrollere de kryptografiske beviser som er lokalisert inne i\\n\\ndokumentet, med Penneo validator - https://penneo.com/validate\\n\\nHvordan bekrefter at dette dokumentet er orginalen?\\n\\nDokumentet er beskyttet av ett Adobe CDS sertifikat. Når du åpner dokumentet i\\n\\n\\n'"
      ]
     },
     "execution_count": 6,
     "metadata": {},
     "output_type": "execute_result"
    }
   ],
   "source": [
    "file_content"
   ]
  },
  {
   "cell_type": "code",
   "execution_count": null,
   "metadata": {},
   "outputs": [],
   "source": []
  }
 ],
 "metadata": {
  "kernelspec": {
   "display_name": ".venv",
   "language": "python",
   "name": "python3"
  },
  "language_info": {
   "codemirror_mode": {
    "name": "ipython",
    "version": 3
   },
   "file_extension": ".py",
   "mimetype": "text/x-python",
   "name": "python",
   "nbconvert_exporter": "python",
   "pygments_lexer": "ipython3",
   "version": "3.12.7"
  }
 },
 "nbformat": 4,
 "nbformat_minor": 2
}
